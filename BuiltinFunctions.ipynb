{
 "cells": [
  {
   "cell_type": "code",
   "execution_count": 1,
   "id": "7bddf60c-1250-4d8c-a714-ad4fa374082b",
   "metadata": {},
   "outputs": [
    {
     "data": {
      "text/plain": [
       "range(0, 50)"
      ]
     },
     "execution_count": 1,
     "metadata": {},
     "output_type": "execute_result"
    }
   ],
   "source": [
    "range(50)"
   ]
  },
  {
   "cell_type": "code",
   "execution_count": 2,
   "id": "93487fff-fccb-4f7f-be2a-bce0451df148",
   "metadata": {},
   "outputs": [
    {
     "data": {
      "text/plain": [
       "[0, 1, 2, 3, 4, 5, 6, 7, 8, 9, 10, 11, 12, 13, 14]"
      ]
     },
     "execution_count": 2,
     "metadata": {},
     "output_type": "execute_result"
    }
   ],
   "source": [
    "list(range(0,15))"
   ]
  },
  {
   "cell_type": "code",
   "execution_count": 3,
   "id": "735f2a02-febc-4008-a3d9-60aab1960ed5",
   "metadata": {},
   "outputs": [
    {
     "data": {
      "text/plain": [
       "(0, 1, 2, 3)"
      ]
     },
     "execution_count": 3,
     "metadata": {},
     "output_type": "execute_result"
    }
   ],
   "source": [
    "tuple(range(0,4))"
   ]
  },
  {
   "cell_type": "code",
   "execution_count": 4,
   "id": "a0d52f34-c41b-4ce5-b8b6-45e757ea77ae",
   "metadata": {},
   "outputs": [
    {
     "data": {
      "text/plain": [
       "{0, 1, 2, 3, 4, 5, 6, 7, 8, 9, 10, 11, 12, 13, 14, 15, 16, 17, 18, 19}"
      ]
     },
     "execution_count": 4,
     "metadata": {},
     "output_type": "execute_result"
    }
   ],
   "source": [
    "set(range(0,20))"
   ]
  },
  {
   "cell_type": "code",
   "execution_count": 5,
   "id": "2b1e4295-45ab-4248-8c37-c901d06f763d",
   "metadata": {},
   "outputs": [
    {
     "name": "stdout",
     "output_type": "stream",
     "text": [
      "10\n",
      "14\n",
      "18\n",
      "22\n",
      "26\n"
     ]
    }
   ],
   "source": [
    "for num in list(range(5,15,2)):\n",
    "    print(num*2)"
   ]
  },
  {
   "cell_type": "code",
   "execution_count": 6,
   "id": "d2ac44d6-1663-4259-8468-60e15185cba2",
   "metadata": {},
   "outputs": [],
   "source": [
    "my_list = [20,30,40,50,60]\n",
    "    "
   ]
  },
  {
   "cell_type": "code",
   "execution_count": 7,
   "id": "9fa86aa2-ee92-4280-a0ef-cc2856821e07",
   "metadata": {},
   "outputs": [
    {
     "name": "stdout",
     "output_type": "stream",
     "text": [
      "20\n",
      "30\n",
      "40\n",
      "50\n",
      "60\n"
     ]
    }
   ],
   "source": [
    "for num in my_list:\n",
    "    print(num)"
   ]
  },
  {
   "cell_type": "code",
   "execution_count": 8,
   "id": "21a4670a-a24b-449f-b0e2-60bb75297eaf",
   "metadata": {},
   "outputs": [
    {
     "name": "stdout",
     "output_type": "stream",
     "text": [
      "0\n",
      "1\n",
      "2\n",
      "3\n",
      "4\n"
     ]
    }
   ],
   "source": [
    "for index in range(len(my_list)):\n",
    "    print(index)\n"
   ]
  },
  {
   "cell_type": "code",
   "execution_count": 9,
   "id": "779aade9-52d9-4064-ab56-d1c0497a3f0b",
   "metadata": {},
   "outputs": [
    {
     "name": "stdout",
     "output_type": "stream",
     "text": [
      "20\n",
      "30\n",
      "40\n",
      "50\n",
      "60\n"
     ]
    }
   ],
   "source": [
    "for index in range(len(my_list)):\n",
    "    print(my_list[index])"
   ]
  },
  {
   "cell_type": "code",
   "execution_count": 10,
   "id": "f4076b31-4b41-4455-9c41-24a26e8ccd32",
   "metadata": {},
   "outputs": [],
   "source": [
    "#enumerate  index ve degerleri tuple seklinde siralar."
   ]
  },
  {
   "cell_type": "code",
   "execution_count": 11,
   "id": "96160bf5-414c-4731-b03f-5c19497c1249",
   "metadata": {},
   "outputs": [
    {
     "name": "stdout",
     "output_type": "stream",
     "text": [
      "(0, 20)\n",
      "(1, 30)\n",
      "(2, 40)\n",
      "(3, 50)\n",
      "(4, 60)\n"
     ]
    }
   ],
   "source": [
    "for element in enumerate(my_list):\n",
    "    print(element)"
   ]
  },
  {
   "cell_type": "code",
   "execution_count": 12,
   "id": "6eaa7109-a860-4b3c-9078-19623618de07",
   "metadata": {},
   "outputs": [
    {
     "name": "stdout",
     "output_type": "stream",
     "text": [
      "0\n",
      "1\n",
      "2\n",
      "3\n",
      "4\n"
     ]
    }
   ],
   "source": [
    "for (index,value) in enumerate(my_list):\n",
    "    print(index)"
   ]
  },
  {
   "cell_type": "code",
   "execution_count": 13,
   "id": "c660b8c0-d3c0-40ac-8f42-3181469b79a8",
   "metadata": {},
   "outputs": [
    {
     "name": "stdout",
     "output_type": "stream",
     "text": [
      "20\n",
      "30\n",
      "40\n",
      "50\n",
      "60\n"
     ]
    }
   ],
   "source": [
    "for (index,value) in enumerate(my_list):\n",
    "    print(value)"
   ]
  },
  {
   "cell_type": "code",
   "execution_count": 14,
   "id": "4e933759-cfc0-4082-984e-2b0882b1e7c7",
   "metadata": {},
   "outputs": [],
   "source": [
    "#random"
   ]
  },
  {
   "cell_type": "code",
   "execution_count": 15,
   "id": "e5cecf83-87c5-4f0f-a301-8d43f9736d6d",
   "metadata": {},
   "outputs": [],
   "source": [
    "from random import randint"
   ]
  },
  {
   "cell_type": "code",
   "execution_count": 16,
   "id": "143cfa0c-6c05-4b51-befe-549a1c4f4b97",
   "metadata": {},
   "outputs": [
    {
     "data": {
      "text/plain": [
       "96"
      ]
     },
     "execution_count": 16,
     "metadata": {},
     "output_type": "execute_result"
    }
   ],
   "source": [
    "randint(0,100)"
   ]
  },
  {
   "cell_type": "code",
   "execution_count": 17,
   "id": "770fdb75-3ebf-4a07-a72c-cfca27e9a149",
   "metadata": {},
   "outputs": [
    {
     "data": {
      "text/plain": [
       "92"
      ]
     },
     "execution_count": 17,
     "metadata": {},
     "output_type": "execute_result"
    }
   ],
   "source": [
    "randint(0,100)\n"
   ]
  },
  {
   "cell_type": "code",
   "execution_count": 18,
   "id": "b0aad16b-c067-465f-821f-57467555864b",
   "metadata": {},
   "outputs": [
    {
     "data": {
      "text/plain": [
       "50"
      ]
     },
     "execution_count": 18,
     "metadata": {},
     "output_type": "execute_result"
    }
   ],
   "source": [
    "randint(0,100)"
   ]
  },
  {
   "cell_type": "code",
   "execution_count": 19,
   "id": "9b5542bc-56e0-4ba4-a193-c2e62508c21a",
   "metadata": {},
   "outputs": [
    {
     "data": {
      "text/plain": [
       "3"
      ]
     },
     "execution_count": 19,
     "metadata": {},
     "output_type": "execute_result"
    }
   ],
   "source": [
    "randint(0,100)"
   ]
  },
  {
   "cell_type": "code",
   "execution_count": 20,
   "id": "f5865dc5-fd64-47e9-8afb-f35380814e9a",
   "metadata": {},
   "outputs": [
    {
     "data": {
      "text/plain": [
       "100"
      ]
     },
     "execution_count": 20,
     "metadata": {},
     "output_type": "execute_result"
    }
   ],
   "source": [
    "randint(0,100)"
   ]
  },
  {
   "cell_type": "code",
   "execution_count": 21,
   "id": "609c508a-4a20-4797-922c-7aba2f7ae5c1",
   "metadata": {},
   "outputs": [],
   "source": [
    "from random import shuffle"
   ]
  },
  {
   "cell_type": "code",
   "execution_count": 22,
   "id": "14807db0-2c35-48d8-abe4-997854a60325",
   "metadata": {},
   "outputs": [
    {
     "data": {
      "text/plain": [
       "[20, 30, 40, 50, 60]"
      ]
     },
     "execution_count": 22,
     "metadata": {},
     "output_type": "execute_result"
    }
   ],
   "source": [
    "my_list"
   ]
  },
  {
   "cell_type": "code",
   "execution_count": 48,
   "id": "3650f64e-9c7a-46d9-8fbc-f0e8e59c1cb2",
   "metadata": {},
   "outputs": [],
   "source": [
    "shuffle(my_list)"
   ]
  },
  {
   "cell_type": "code",
   "execution_count": 50,
   "id": "c90d7d25-2e5f-46a2-a7fd-295c03d7cb08",
   "metadata": {},
   "outputs": [
    {
     "data": {
      "text/plain": [
       "[40, 50, 20, 60, 30]"
      ]
     },
     "execution_count": 50,
     "metadata": {},
     "output_type": "execute_result"
    }
   ],
   "source": [
    "my_list"
   ]
  },
  {
   "cell_type": "code",
   "execution_count": 52,
   "id": "846eaccb-c69c-4377-9a7d-ce6e224514ad",
   "metadata": {},
   "outputs": [],
   "source": [
    "#zip"
   ]
  },
  {
   "cell_type": "code",
   "execution_count": 54,
   "id": "b71cd4f8-19a4-48ec-bfe1-b968050301b1",
   "metadata": {},
   "outputs": [],
   "source": [
    "food_list = [\"apple\",\"banana\",\"melon\"]"
   ]
  },
  {
   "cell_type": "code",
   "execution_count": 56,
   "id": "f1645a67-ac94-41dd-aca6-37661e3eeb9d",
   "metadata": {},
   "outputs": [],
   "source": [
    "calories_list = [100,50,300]"
   ]
  },
  {
   "cell_type": "code",
   "execution_count": 60,
   "id": "4b7bf7f7-981f-40dd-b784-05058a16386d",
   "metadata": {},
   "outputs": [],
   "source": [
    "days = [\"friday\", \"saturday\", \"sunday\"]"
   ]
  },
  {
   "cell_type": "code",
   "execution_count": 62,
   "id": "83e250ab-5a8e-424b-aae1-a6a6527a9c36",
   "metadata": {},
   "outputs": [],
   "source": [
    "zipped_list = zip(food_list,calories_list,days)"
   ]
  },
  {
   "cell_type": "code",
   "execution_count": 66,
   "id": "22e79cd4-c0a8-419b-abcd-17dc27bb9ce4",
   "metadata": {},
   "outputs": [
    {
     "data": {
      "text/plain": [
       "[('apple', 100, 'friday'),\n",
       " ('banana', 50, 'saturday'),\n",
       " ('melon', 300, 'sunday')]"
      ]
     },
     "execution_count": 66,
     "metadata": {},
     "output_type": "execute_result"
    }
   ],
   "source": [
    "list(zipped_list)"
   ]
  },
  {
   "cell_type": "code",
   "execution_count": 68,
   "id": "d3854253-bfaa-4de5-8da6-2e0bb60fbda8",
   "metadata": {},
   "outputs": [],
   "source": [
    "new_list = [ ]\n",
    "my_string = \"metalliica\"\n",
    "for element in my_string:\n",
    "    new_list.append(element)"
   ]
  },
  {
   "cell_type": "code",
   "execution_count": 70,
   "id": "348f1d8a-6152-47a2-96f2-396fe2370b1f",
   "metadata": {},
   "outputs": [
    {
     "data": {
      "text/plain": [
       "['m', 'e', 't', 'a', 'l', 'l', 'i', 'i', 'c', 'a']"
      ]
     },
     "execution_count": 70,
     "metadata": {},
     "output_type": "execute_result"
    }
   ],
   "source": [
    "new_list"
   ]
  },
  {
   "cell_type": "code",
   "execution_count": 74,
   "id": "9e49641c-7df6-4f94-be4c-a3a7417c2e72",
   "metadata": {},
   "outputs": [],
   "source": [
    "#list comprehension"
   ]
  },
  {
   "cell_type": "code",
   "execution_count": 76,
   "id": "7f25b063-b48b-4142-bd27-b7e3aa29e9f8",
   "metadata": {},
   "outputs": [],
   "source": [
    "new_list = [element for element in my_string]"
   ]
  },
  {
   "cell_type": "code",
   "execution_count": 78,
   "id": "0449254e-9219-48a6-8f97-43aa09bd209f",
   "metadata": {},
   "outputs": [],
   "source": [
    "number_list = [10,20,30,40,50,60]"
   ]
  },
  {
   "cell_type": "code",
   "execution_count": 84,
   "id": "155bf8a5-8fb9-4dcd-a4cd-8b1498064d72",
   "metadata": {},
   "outputs": [],
   "source": [
    "new_number_list = [ num/2 for num in number_list]"
   ]
  },
  {
   "cell_type": "code",
   "execution_count": 86,
   "id": "cd7a4783-2784-4d40-ba45-775bc946c4bd",
   "metadata": {},
   "outputs": [
    {
     "data": {
      "text/plain": [
       "[5.0, 10.0, 15.0, 20.0, 25.0, 30.0]"
      ]
     },
     "execution_count": 86,
     "metadata": {},
     "output_type": "execute_result"
    }
   ],
   "source": [
    "new_number_list"
   ]
  },
  {
   "cell_type": "code",
   "execution_count": 88,
   "id": "2ab537cf-ad8e-4242-99f2-933c1bde9965",
   "metadata": {},
   "outputs": [],
   "source": [
    "new_number_list = []\n",
    "for num in number_list:\n",
    "    new_number_list.append(num/2)"
   ]
  },
  {
   "cell_type": "code",
   "execution_count": 90,
   "id": "e5227699-f25f-4431-9e53-b5b52e319040",
   "metadata": {},
   "outputs": [
    {
     "data": {
      "text/plain": [
       "[5.0, 10.0, 15.0, 20.0, 25.0, 30.0]"
      ]
     },
     "execution_count": 90,
     "metadata": {},
     "output_type": "execute_result"
    }
   ],
   "source": [
    "new_number_list"
   ]
  },
  {
   "cell_type": "code",
   "execution_count": 92,
   "id": "3755f94b-22b0-43f9-9f8f-e6097101d219",
   "metadata": {},
   "outputs": [],
   "source": [
    "mevsimler = [\"yaz\",\"sonbahar\", \"kis\",\"ilkbahar\"]"
   ]
  },
  {
   "cell_type": "code",
   "execution_count": 96,
   "id": "04f80ff6-8778-48a7-bc7a-f4fecea0c328",
   "metadata": {},
   "outputs": [],
   "source": [
    "new_mev_list = []\n",
    "for mev in mevsimler:\n",
    "    new_mev_list.append(mev)"
   ]
  },
  {
   "cell_type": "code",
   "execution_count": 99,
   "id": "d1fb50b1-6954-441a-af59-2a52f9c0956b",
   "metadata": {},
   "outputs": [
    {
     "data": {
      "text/plain": [
       "['yaz', 'sonbahar', 'kis', 'ilkbahar']"
      ]
     },
     "execution_count": 99,
     "metadata": {},
     "output_type": "execute_result"
    }
   ],
   "source": [
    "new_mev_list"
   ]
  },
  {
   "cell_type": "code",
   "execution_count": 101,
   "id": "0aa94abd-a52e-4575-bfcd-1716834c7adc",
   "metadata": {},
   "outputs": [],
   "source": [
    "sayilar = [10,20,30,40]"
   ]
  },
  {
   "cell_type": "raw",
   "id": "a9a08c0d-7a90-4385-b77c-c3cf9e00cc01",
   "metadata": {},
   "source": [
    "for num in "
   ]
  }
 ],
 "metadata": {
  "kernelspec": {
   "display_name": "Python 3 (ipykernel)",
   "language": "python",
   "name": "python3"
  },
  "language_info": {
   "codemirror_mode": {
    "name": "ipython",
    "version": 3
   },
   "file_extension": ".py",
   "mimetype": "text/x-python",
   "name": "python",
   "nbconvert_exporter": "python",
   "pygments_lexer": "ipython3",
   "version": "3.12.7"
  }
 },
 "nbformat": 4,
 "nbformat_minor": 5
}
